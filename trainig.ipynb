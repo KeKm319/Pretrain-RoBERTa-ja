{
 "cells": [
  {
   "cell_type": "code",
   "execution_count": null,
   "metadata": {},
   "outputs": [],
   "source": [
    "import sys\n",
    "sys.dont_write_bytecode = True"
   ]
  },
  {
   "cell_type": "code",
   "execution_count": null,
   "metadata": {},
   "outputs": [],
   "source": [
    "import torch\n",
    "import torch.nn as nn\n",
    "import torch.optim as optim\n",
    "import random\n",
    "import numpy as np\n",
    "from scr.roberta import Model\n",
    "from scr.tokenizer import Tokenizer\n",
    "from scr.datasets import Roberta_datasets"
   ]
  },
  {
   "cell_type": "code",
   "execution_count": null,
   "metadata": {},
   "outputs": [],
   "source": [
    "def torch_fix_seed(seed=42):\n",
    "    # Python random\n",
    "    random.seed(seed)\n",
    "    # Numpy\n",
    "    np.random.seed(seed)\n",
    "    # Pytorch\n",
    "    torch.manual_seed(seed)\n",
    "    torch.cuda.manual_seed(seed)\n",
    "    torch.backends.cudnn.deterministic = True\n",
    "    torch.use_deterministic_algorithms = True\n",
    "\n",
    "torch_fix_seed(42)"
   ]
  },
  {
   "cell_type": "code",
   "execution_count": null,
   "metadata": {},
   "outputs": [],
   "source": [
    "tokenizer = Tokenizer('tokenizer/tokenizer.model')\n",
    "device = torch.device(\"cuda:0\" if torch.cuda.is_available() else \"cpu\")\n",
    "max_len = 128\n",
    "vocab_size = tokenizer.vocab_size()\n",
    "config = {\n",
    "    'vocab_size': vocab_size,\n",
    "    'max_len': max_len,\n",
    "    'num_layers': 4,\n",
    "    'num_attn_heads': 4,\n",
    "    'hidden_dim': 768,\n",
    "    'dropout': 0.1\n",
    "}\n",
    "batch_size = 16\n",
    "lerning_rate = 5e-5\n",
    "num_epoch = 10\n",
    "PAD = tokenizer.label_2_id('[PAD]')\n",
    "MASK = tokenizer.label_2_id('[MASK]')\n",
    "model = Model(**config)\n",
    "model"
   ]
  },
  {
   "cell_type": "code",
   "execution_count": null,
   "metadata": {},
   "outputs": [],
   "source": [
    "with open('datasets/text.txt', 'r', encoding='utf-8')as f:\n",
    "    datas = f.read()\n",
    "datas = datas.split('\\n')\n",
    "datas[:5]"
   ]
  },
  {
   "cell_type": "code",
   "execution_count": null,
   "metadata": {},
   "outputs": [],
   "source": [
    "from sklearn.model_selection import train_test_split\n",
    "train, test = train_test_split(datas, test_size=0.1)\n",
    "train_data = Roberta_datasets(train, tokenizer, max_len, PAD)\n",
    "test_data = Roberta_datasets(test, tokenizer, max_len, PAD)\n",
    "\n",
    "train_dataloader = torch.utils.data.DataLoader(train_data, batch_size=batch_size, shuffle=True)\n",
    "test_dataloader = torch.utils.data.DataLoader(test_data, batch_size=batch_size, shuffle=True)\n",
    "\n",
    "special_token_weight = torch.tensor([1.0]*vocab_size)\n",
    "special_token_weight[:9] = 0.0\n",
    "special_token_weight = special_token_weight.to(device)"
   ]
  }
 ],
 "metadata": {
  "kernelspec": {
   "display_name": "torch",
   "language": "python",
   "name": "python3"
  },
  "language_info": {
   "codemirror_mode": {
    "name": "ipython",
    "version": 3
   },
   "file_extension": ".py",
   "mimetype": "text/x-python",
   "name": "python",
   "nbconvert_exporter": "python",
   "pygments_lexer": "ipython3",
   "version": "3.9.18"
  }
 },
 "nbformat": 4,
 "nbformat_minor": 2
}
