{
 "cells": [
  {
   "cell_type": "code",
   "execution_count": 2,
   "metadata": {},
   "outputs": [],
   "source": [
    "path = 'datasets/text.txt'\n",
    "out_path = 'tokenizer/tokenizer'"
   ]
  },
  {
   "cell_type": "code",
   "execution_count": 9,
   "metadata": {},
   "outputs": [],
   "source": [
    "import sentencepiece as sp\n",
    "\n",
    "# 学習の実行\n",
    "sp.SentencePieceTrainer.train(\n",
    "    input=path,  # コーパスファイル\n",
    "    model_type=\"bpe\",  # 文字単位\n",
    "    model_prefix=out_path,  # 出力されるモデルのファイル名に使われる\n",
    "    vocab_size=1500,  # 語彙数\n",
    "    add_dummy_prefix=False,\n",
    "    character_coverage=0.995,\n",
    "    pad_id=3,\n",
    "    pad_piece='[PAD]',\n",
    "    user_defined_symbols=['[PAD]', '[CLS]', '[SEP]', '[MASK]','[BOS]', '[EOS]']\n",
    ")"
   ]
  },
  {
   "cell_type": "code",
   "execution_count": 10,
   "metadata": {},
   "outputs": [],
   "source": [
    "from scr.tokenizer import Tokenizer"
   ]
  },
  {
   "cell_type": "code",
   "execution_count": 11,
   "metadata": {},
   "outputs": [
    {
     "data": {
      "text/plain": [
       "['[CLS]', 'メロスは', '激怒', 'した', '。', '[EOS]']"
      ]
     },
     "execution_count": 11,
     "metadata": {},
     "output_type": "execute_result"
    }
   ],
   "source": [
    "text = \"[CLS]メロスは[MASK]した。[EOS]\"\n",
    "tokenizer = Tokenizer('tokenizer/tokenizer.model')\n",
    "tokenizer.text_2_token(text)"
   ]
  }
 ],
 "metadata": {
  "kernelspec": {
   "display_name": "torch",
   "language": "python",
   "name": "python3"
  },
  "language_info": {
   "codemirror_mode": {
    "name": "ipython",
    "version": 3
   },
   "file_extension": ".py",
   "mimetype": "text/x-python",
   "name": "python",
   "nbconvert_exporter": "python",
   "pygments_lexer": "ipython3",
   "version": "3.9.18"
  }
 },
 "nbformat": 4,
 "nbformat_minor": 2
}
